{
 "cells": [
  {
   "cell_type": "code",
   "execution_count": null,
   "metadata": {},
   "outputs": [],
   "source": [
    "import random\n",
    "# weight=random.randint(1, 11)\n",
    "weight= 41.5\n",
    "\n",
    "cost_ground=[]\n",
    "cost_drone=[]\n",
    "cost_ground_premium = 125\n",
    "# Ground shipping \n",
    "\n",
    "if weight <=1:\n",
    "  cost_ground = weight * 1.50 + 20\n",
    "  cost_drone = weight * 4.50 \n",
    "  print(\" Cost of item of weight less than or equal to 1 is :\",cost_ground )\n",
    "  print(\"Ground Shipping Premium $\", cost_ground_premium)\n",
    "  print(\"Drone Shipping $\",cost_drone)\n",
    "\n",
    "elif weight >=2 and  weight <=6:\n",
    "  cost_ground = weight * 3 + 20\n",
    "  cost_drone =weight * 9 \n",
    "  print( \"Cost of item of weight greater  than or equal to  2 and less than or equal to 6 is  :\", cost_ground)\n",
    "  print(\"Ground Shipping Premium $\", cost_ground_premium)\n",
    "  print(\"Drone Shipping $\",cost_drone)\n",
    "\n",
    "elif weight >=6 and weight <=10:\n",
    "   cost_ground = weight * 4 + 20\n",
    "   cost_drone =weight * 12 \n",
    "\n",
    "   print(\"Cost of item of weight greater  than or equal to  6 and less than or equal to 10 is  :\", cost_ground )\n",
    "   print(\"Ground Shipping Premium $\", cost_ground_premium)\n",
    "   print(\"Drone Shipping  $\",cost_drone)\n",
    "elif weight >10 :\n",
    "   cost_ground = weight * 4.75 + 20\n",
    "   cost_drone =weight * 14.25 \n",
    "   print( \"Cost of item of weight greater  than 10\",cost_ground)\n",
    "   print(\"Ground Shipping Premium $\",cost_ground_premium)\n",
    "   print(\"Drone Shipping $\",cost_drone)"
   ]
  }
 ],
 "metadata": {
  "kernelspec": {
   "display_name": "Python 3",
   "language": "python",
   "name": "python3"
  },
  "language_info": {
   "codemirror_mode": {
    "name": "ipython",
    "version": 3
   },
   "file_extension": ".py",
   "mimetype": "text/x-python",
   "name": "python",
   "nbconvert_exporter": "python",
   "pygments_lexer": "ipython3",
   "version": "3.7.6"
  }
 },
 "nbformat": 4,
 "nbformat_minor": 4
}
